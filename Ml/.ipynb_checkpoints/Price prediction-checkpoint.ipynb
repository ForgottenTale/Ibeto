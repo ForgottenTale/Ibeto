{
 "cells": [
  {
   "cell_type": "code",
   "execution_count": 180,
   "id": "laden-characterization",
   "metadata": {},
   "outputs": [],
   "source": [
    "import pandas as pd\n",
    "import numpy as np\n",
    "import seaborn as sns\n",
    "import matplotlib.pyplot as plt\n",
    "from sklearn.linear_model import LinearRegression \n",
    "from sklearn.model_selection import train_test_split\n",
    "import time \n",
    "import datetime\n",
    "\n",
    "\n",
    "%matplotlib inline\n",
    "\n",
    "df = pd.read_excel('newdata.xlsx')"
   ]
  },
  {
   "cell_type": "code",
   "execution_count": 201,
   "id": "terminal-programming",
   "metadata": {},
   "outputs": [],
   "source": [
    "class Predict:\n",
    "    def __init__(self,crop,month):\n",
    "        self.crop = crop\n",
    "        self.month = month\n",
    "    \n",
    "    def prediction(self):\n",
    "        \n",
    "        crop = self.crop\n",
    "        month = self.month\n",
    "        HouseDF = df[df['Crops']==crop]\n",
    "        dates = HouseDF['Date'].tolist()\n",
    "        a = [] \n",
    "        i=0\n",
    "        for date in dates:\n",
    "            string = date.to_pydatetime()\n",
    "            string = string.strftime('%d/%m/%Y')\n",
    "            a.append(time.mktime(datetime.datetime.strptime(string,\"%d/%m/%Y\").timetuple()))\n",
    "            i=i+1\n",
    "        \n",
    "        X = np.array([a]).transpose()\n",
    "        y = HouseDF[['WPI']]\n",
    "        X_train, X_test, y_train, y_test = train_test_split(X, y, test_size=0.5, random_state=0)\n",
    "        lm = LinearRegression()\n",
    "        lm.fit(X_train,y_train)\n",
    "        text = time.mktime(datetime.datetime.strptime(month,\"%d/%m/%Y\").timetuple())\n",
    "        arr = np.array([[text]])\n",
    "        predictions = lm.predict(arr) \n",
    "        return round(predictions[0][0],2)\n",
    "\n",
    "        \n",
    "\n",
    "\n",
    "\n",
    "\n",
    "\n",
    "\n",
    "\n",
    "\n",
    "\n",
    "\n",
    "\n",
    "\n",
    "\n",
    "        \n",
    "        \n",
    "\n"
   ]
  },
  {
   "cell_type": "code",
   "execution_count": 203,
   "id": "resident-accounting",
   "metadata": {},
   "outputs": [
    {
     "data": {
      "text/plain": [
       "167.14"
      ]
     },
     "execution_count": 203,
     "metadata": {},
     "output_type": "execute_result"
    }
   ],
   "source": [
    "crop1 = Predict(\"Paddy\",\"01/07/2020\")\n",
    "price = crop1.prediction()\n",
    "price"
   ]
  },
  {
   "cell_type": "code",
   "execution_count": null,
   "id": "copyrighted-conditions",
   "metadata": {},
   "outputs": [],
   "source": [
    "\n",
    "\n",
    "\n"
   ]
  },
  {
   "cell_type": "code",
   "execution_count": null,
   "id": "given-medium",
   "metadata": {},
   "outputs": [],
   "source": []
  },
  {
   "cell_type": "code",
   "execution_count": null,
   "id": "casual-drawing",
   "metadata": {},
   "outputs": [],
   "source": []
  },
  {
   "cell_type": "code",
   "execution_count": null,
   "id": "english-lancaster",
   "metadata": {},
   "outputs": [],
   "source": []
  },
  {
   "cell_type": "code",
   "execution_count": null,
   "id": "textile-exposure",
   "metadata": {},
   "outputs": [],
   "source": []
  },
  {
   "cell_type": "code",
   "execution_count": null,
   "id": "great-midnight",
   "metadata": {},
   "outputs": [],
   "source": []
  },
  {
   "cell_type": "code",
   "execution_count": null,
   "id": "thirty-variance",
   "metadata": {},
   "outputs": [],
   "source": [
    "\n"
   ]
  },
  {
   "cell_type": "code",
   "execution_count": null,
   "id": "adequate-imaging",
   "metadata": {},
   "outputs": [],
   "source": []
  }
 ],
 "metadata": {
  "kernelspec": {
   "display_name": "Python 3",
   "language": "python",
   "name": "python3"
  },
  "language_info": {
   "codemirror_mode": {
    "name": "ipython",
    "version": 3
   },
   "file_extension": ".py",
   "mimetype": "text/x-python",
   "name": "python",
   "nbconvert_exporter": "python",
   "pygments_lexer": "ipython3",
   "version": "3.9.0"
  }
 },
 "nbformat": 4,
 "nbformat_minor": 5
}
